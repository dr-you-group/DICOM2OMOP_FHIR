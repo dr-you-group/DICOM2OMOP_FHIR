{
 "cells": [
  {
   "cell_type": "markdown",
   "metadata": {},
   "source": [
    "We can use the provided stylesheets under ./support/stylesheets to transform the source data xml prior to final processing."
   ]
  },
  {
   "cell_type": "code",
   "execution_count": 30,
   "metadata": {},
   "outputs": [],
   "source": [
    "import pandas as pd\n",
    "from lxml import etree\n",
    "\n",
    "\n",
    "def xslt_transform_to_csv(xslt_path, xml_path, csv_path):\n",
    "   # Load the XSLT stylesheet\n",
    "   with open(xslt_path, 'r') as f:\n",
    "       xsl = etree.parse(f)\n",
    "\n",
    "   # Load the XML document\n",
    "   with open(xml_path, 'r') as f:\n",
    "       xml = etree.parse(f)\n",
    "\n",
    "   # Create an XSLT transformer\n",
    "   transform = etree.XSLT(xsl)\n",
    "\n",
    "   # Apply the transformation\n",
    "   result = transform(xml)\n",
    "\n",
    "   # Write the result to a file\n",
    "   with open('output.xml', 'wb') as f:\n",
    "       f.write(etree.tostring(result))\n",
    "\n",
    "   # Read the XML data into a DataFrame\n",
    "   df = pd.read_xml('output.xml')\n",
    "\n",
    "   # Write the DataFrame to a CSV file\n",
    "   df.to_csv(csv_path, index=False)\n",
    "\n",
    "\n",
    "\n",
    "path_to_xslt_stylesheet = './sourceandrenderingpipeline/support/stylesheets/extractdcmconceptswithoutdefinitionforcp.xsl'\n",
    "path_to_xml_document = './sourceandrenderingpipeline/source/docbook/part16/part16.xml'\n",
    "path_to_output_csv = './output.csv'\n",
    "\n",
    "\n",
    "\n",
    "xslt_transform_to_csv(path_to_xslt_stylesheet, path_to_xml_document, path_to_output_csv)\n",
    "\n"
   ]
  },
  {
   "cell_type": "code",
   "execution_count": 31,
   "metadata": {},
   "outputs": [
    {
     "data": {
      "text/html": [
       "<div>\n",
       "<style scoped>\n",
       "    .dataframe tbody tr th:only-of-type {\n",
       "        vertical-align: middle;\n",
       "    }\n",
       "\n",
       "    .dataframe tbody tr th {\n",
       "        vertical-align: top;\n",
       "    }\n",
       "\n",
       "    .dataframe thead th {\n",
       "        text-align: right;\n",
       "    }\n",
       "</style>\n",
       "<table border=\"1\" class=\"dataframe\">\n",
       "  <thead>\n",
       "    <tr style=\"text-align: right;\">\n",
       "      <th></th>\n",
       "      <th>label</th>\n",
       "      <th>status</th>\n",
       "      <th>id</th>\n",
       "      <th>title</th>\n",
       "      <th>table</th>\n",
       "    </tr>\n",
       "  </thead>\n",
       "  <tbody>\n",
       "    <tr>\n",
       "      <th>0</th>\n",
       "      <td>D</td>\n",
       "      <td>1</td>\n",
       "      <td>chapter_D</td>\n",
       "      <td>DICOM Controlled Terminology Definitions (Norm...</td>\n",
       "      <td>NaN</td>\n",
       "    </tr>\n",
       "  </tbody>\n",
       "</table>\n",
       "</div>"
      ],
      "text/plain": [
       "  label  status         id                                              title  \\\n",
       "0     D       1  chapter_D  DICOM Controlled Terminology Definitions (Norm...   \n",
       "\n",
       "   table  \n",
       "0    NaN  "
      ]
     },
     "execution_count": 31,
     "metadata": {},
     "output_type": "execute_result"
    }
   ],
   "source": [
    "# Load the CSV data into a DataFrame\n",
    "df = pd.read_csv('output.csv')\n",
    "\n",
    "# Display the first few rows of the DataFrame\n",
    "df.head(20)"
   ]
  }
 ],
 "metadata": {
  "kernelspec": {
   "display_name": ".venv",
   "language": "python",
   "name": "python3"
  },
  "language_info": {
   "codemirror_mode": {
    "name": "ipython",
    "version": 3
   },
   "file_extension": ".py",
   "mimetype": "text/x-python",
   "name": "python",
   "nbconvert_exporter": "python",
   "pygments_lexer": "ipython3",
   "version": "3.10.12"
  }
 },
 "nbformat": 4,
 "nbformat_minor": 2
}
